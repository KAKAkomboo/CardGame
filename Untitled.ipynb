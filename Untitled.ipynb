{
 "cells": [
  {
   "cell_type": "code",
   "execution_count": 4,
   "id": "ef58de8c-08e4-40a2-b358-07b5e37bd77d",
   "metadata": {},
   "outputs": [
    {
     "ename": "IndentationError",
     "evalue": "expected an indented block after function definition on line 67 (3196665782.py, line 70)",
     "output_type": "error",
     "traceback": [
      "  \u001b[36mCell\u001b[39m\u001b[36m \u001b[39m\u001b[32mIn[4]\u001b[39m\u001b[32m, line 70\u001b[39m\n\u001b[31m    \u001b[39m\u001b[31mgame = Game(num_players = 4, deck_type = 54, card_p = 6)\u001b[39m\n                                                            ^\n\u001b[31mIndentationError\u001b[39m\u001b[31m:\u001b[39m expected an indented block after function definition on line 67\n"
     ]
    }
   ],
   "source": [
    "import random\n",
    "\n",
    "class User:\n",
    "    def __init__(self, cards):\n",
    "        self.cards = cards\n",
    "\n",
    "class Card:\n",
    "    def __init__(self, suit, value):\n",
    "        self.suit = suit\n",
    "        self.value = value\n",
    "        \n",
    "    def __str__(self):\n",
    "        return (f\"{self.suit} of {self.value}\")\n",
    "\n",
    "class Deck:\n",
    "    def __init__(self, deck_type=54):\n",
    "        # deck_type 54 or 36\n",
    "\n",
    "        suits = [\"chervy\", \"pika\", \"bubna\", \"chresta\"]\n",
    "        values36 = [\"6\", \"7\", \"8\",\n",
    "                  \"9\", \"10\", \"J\",\n",
    "                  \"Q\", \"K\", \"A\"]\n",
    "        values54 = [\"2\", \"3\", \"4\", \"5\",\n",
    "                    \"6\", \"7\", \"8\",\n",
    "                  \"9\", \"10\", \"J\",\n",
    "                  \"Q\", \"K\", \"A\"]\n",
    "\n",
    "        if deck_type == 36:\n",
    "            values = values36\n",
    "        elif deck_type == 54:\n",
    "            values = values54\n",
    "\n",
    "        #coloda create\n",
    "        self.koloda = []\n",
    "        for value in values:\n",
    "            for suit in suits:\n",
    "                c = Card(suit, value)\n",
    "                self.koloda.append(c)\n",
    "        if deck_type == 54:\n",
    "            self.koloda.append(Card(\"red\", \"joker\"))\n",
    "            self.koloda.append(Card(\"black\", \"joker\"))\n",
    "        random.shuffle(self.koloda)\n",
    "\n",
    "        while True:\n",
    "            self.kozir = self.koloda[-1].suit\n",
    "            if self.kozir not in [\"red\", \"black\"]:\n",
    "                break\n",
    "            random.shuffle(self.koloda)\n",
    "\n",
    "    def give(self):\n",
    "        return self.koloda.pop(0)\n",
    "\n",
    "class Game:\n",
    "    def __init__(self, num_players, card_p = 6, deck_type=54):\n",
    "        self.deck = Deck(deck_type)\n",
    "        self.num_players = num_players\n",
    "        self.players = []\n",
    "        self.card_p = card_p\n",
    "\n",
    "    def deal_c(self):\n",
    "        for i in range(self.num_players):\n",
    "            cards = []\n",
    "            for i in range(self.card_p):\n",
    "                card = self.deck.give()\n",
    "                cards.append(card)\n",
    "\n",
    "    def s_p(self):\n",
    "\n",
    "\n",
    "game = Game(num_players = 4, deck_type = 54, card_p = 6)"
   ]
  },
  {
   "cell_type": "code",
   "execution_count": null,
   "id": "2aad9690-b7e8-4e6d-b8e0-9c66411753ca",
   "metadata": {},
   "outputs": [],
   "source": []
  }
 ],
 "metadata": {
  "kernelspec": {
   "display_name": "Python 3 (ipykernel)",
   "language": "python",
   "name": "python3"
  },
  "language_info": {
   "codemirror_mode": {
    "name": "ipython",
    "version": 3
   },
   "file_extension": ".py",
   "mimetype": "text/x-python",
   "name": "python",
   "nbconvert_exporter": "python",
   "pygments_lexer": "ipython3",
   "version": "3.13.7"
  }
 },
 "nbformat": 4,
 "nbformat_minor": 5
}
